{
 "cells": [
  {
   "cell_type": "code",
   "execution_count": null,
   "metadata": {},
   "outputs": [],
   "source": [
    "import numpy as np"
   ]
  },
  {
   "cell_type": "markdown",
   "metadata": {},
   "source": [
    "# Crop Choice Model Tests\n",
    "\n",
    "This notebook will test the integrated function of the model. "
   ]
  },
  {
   "cell_type": "code",
   "execution_count": 1,
   "metadata": {},
   "outputs": [],
   "source": [
    "import sys\n",
    "sys.path.append('/Users/johnkucharski/Documents/source/cropchoice')\n",
    "import water\n",
    "import crops\n",
    "import system"
   ]
  },
  {
   "cell_type": "markdown",
   "metadata": {},
   "source": [
    "The block of code below builds a \"central planner\" contained in the **System.CentralPlanner**. This is constructed from:\n",
    "\n",
    "1. **G**: Groundwater - a groundwater object described in the *water.ipynb* notebook.\n",
    "2. **S**: Surfacewater -  a surfacewater object described in the *water.ipynb* notebook.\n",
    "3. **crops**: np.ndarray[shape=(x,1), dtype=Crop] - a numpy array of *crop* objects described in the *crops.ipynb* notebook.\n",
    "4. **portfolio**: np.ndarray[shape=(x,1), dtype=unsigned integer] - an initial allocation of crops.\n",
    "\n",
    "**NOTE**: the position of crop items in the *crops* array must match the position of the area allocated to them in the **portfolio** array.  "
   ]
  },
  {
   "cell_type": "code",
   "execution_count": 2,
   "metadata": {},
   "outputs": [
    {
     "name": "stdout",
     "output_type": "stream",
     "text": [
      "CentralPlanner(G=Groundwater(active=True, deficit=0.0, max_deficit=inf, sustainable_yield=0.0, pump_cost_function=<function exponential.<locals>.f at 0x11a0e4160>), S=Surfacewater(available=0, unit_cost=1), crops=array([Fallow(name='FALLOW'),\n",
      "       Annual(name='ANNUAL', unit_costs=UnitCost(startup_cost=0, non_water_cost=1), production_fx=<function unit_production.<locals>.f at 0x11a0e5870>),\n",
      "       Perennial(name='PERENNIAL', unit_costs=UnitCost(startup_cost=0, non_water_cost=1), production_fx=<function unit_production.<locals>.f at 0x11a0e52d0>)],\n",
      "      dtype=object), portfolio=array([50, 25, 25], dtype=uint32))\n"
     ]
    }
   ],
   "source": [
    "cp = system.CentralPlanner()\n",
    "print(cp)"
   ]
  },
  {
   "cell_type": "markdown",
   "metadata": {},
   "source": [
    "#### system.Planner.plan(inputs: np.ndarray)\n",
    "\n",
    "The **plan()**"
   ]
  },
  {
   "cell_type": "code",
   "execution_count": 3,
   "metadata": {},
   "outputs": [
    {
     "name": "stdout",
     "output_type": "stream",
     "text": [
      "[[ 2.  2.  0.  1.  1. 21. 20.  1.]\n",
      " [ 2.  2.  0.  1.  1. 21. 20.  1.]\n",
      " [ 2.  2.  0.  1.  1. 21. 20.  1.]\n",
      " [ 2.  2.  0.  1.  1. 21. 20.  1.]\n",
      " [ 2.  2.  0.  1.  1. 21. 20.  1.]]\n"
     ]
    }
   ],
   "source": [
    "# ETo, Kc, P, Price, r\n",
    "inputs = np.array([[1, 0, 1, 0, 0.1],\n",
    "                   [1, 1, 1, 2, 0.1],\n",
    "                   [1, 2, 1, 2.1, 0.1]])\n",
    "out = cp.plan(inputs)\n",
    "# id, d, sw, gw, price, mr, mc, npv\n",
    "print(out[0:5,:])\n"
   ]
  },
  {
   "cell_type": "code",
   "execution_count": 4,
   "metadata": {},
   "outputs": [
    {
     "name": "stdout",
     "output_type": "stream",
     "text": [
      "CentralPlanner(G=Groundwater(active=False, deficit=0.0, max_deficit=inf, sustainable_yield=0.0, pump_cost_function=<function exponential.<locals>.f at 0x11a0e4160>), S=Surfacewater(available=2, unit_cost=1), crops=array([Fallow(name='FALLOW'),\n",
      "       Annual(name='ANNUAL', unit_costs=UnitCost(startup_cost=0, non_water_cost=1), production_fx=<function unit_production.<locals>.f at 0x11a0e5870>),\n",
      "       Perennial(name='PERENNIAL', unit_costs=UnitCost(startup_cost=0, non_water_cost=1), production_fx=<function unit_production.<locals>.f at 0x11a0e52d0>)],\n",
      "      dtype=object), portfolio=array([50, 25, 25], dtype=uint32))\n"
     ]
    }
   ],
   "source": [
    "cp = system.CentralPlanner(G=water.Groundwater(active=False), S=water.Surfacewater(available=2))\n",
    "print(cp)\n"
   ]
  },
  {
   "cell_type": "code",
   "execution_count": 5,
   "metadata": {},
   "outputs": [
    {
     "name": "stdout",
     "output_type": "stream",
     "text": [
      "[[ 2.          2.          1.          0.          1.         21.\n",
      "  20.          1.        ]\n",
      " [ 2.          2.          1.          0.          1.         21.\n",
      "  20.          1.        ]\n",
      " [ 1.          1.          0.          0.          1.          1.81818182\n",
      "   0.90909091  0.90909091]\n",
      " [ 1.          1.          0.          0.          1.          1.81818182\n",
      "   0.90909091  0.90909091]\n",
      " [ 1.          1.          0.          0.          1.          1.81818182\n",
      "   0.90909091  0.90909091]]\n"
     ]
    }
   ],
   "source": [
    "out2 = cp.plan(inputs)\n",
    "# id, d, sw, gw, price, mr, mc, npv\n",
    "print(out2[0:5,:])"
   ]
  }
 ],
 "metadata": {
  "kernelspec": {
   "display_name": "Python 3.10.2 ('sysuncertain')",
   "language": "python",
   "name": "python3"
  },
  "language_info": {
   "codemirror_mode": {
    "name": "ipython",
    "version": 3
   },
   "file_extension": ".py",
   "mimetype": "text/x-python",
   "name": "python",
   "nbconvert_exporter": "python",
   "pygments_lexer": "ipython3",
   "version": "3.10.2"
  },
  "orig_nbformat": 4,
  "vscode": {
   "interpreter": {
    "hash": "b427b2880f06307e130c3ce53b24c93c55fb259fde01d2d5f9bfcfe2d0d52cb4"
   }
  }
 },
 "nbformat": 4,
 "nbformat_minor": 2
}
